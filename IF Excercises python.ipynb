{
 "cells": [
  {
   "cell_type": "code",
   "execution_count": 14,
   "metadata": {},
   "outputs": [],
   "source": [
    "india = [\"mumbai\", \"banglore\", \"chennai\", \"delhi\"]\n",
    "pakistan = [\"lahore\", \"karachi\", \"islamabad\"]\n",
    "bangladesh = [\"dhaka\", \"khulna\", \"rangpur\"]"
   ]
  },
  {
   "cell_type": "code",
   "execution_count": 15,
   "metadata": {},
   "outputs": [],
   "source": [
    "city = input(\"Enter city name: \")"
   ]
  },
  {
   "cell_type": "code",
   "execution_count": 16,
   "metadata": {},
   "outputs": [
    {
     "name": "stdout",
     "output_type": "stream",
     "text": [
      "delhi is in India\n"
     ]
    }
   ],
   "source": [
    "if city in india:\n",
    "    print(f'{city} is in India' )\n",
    "elif city in pakistan:\n",
    "    print(f'{city} is in Pakistan' )\n",
    "elif city in bangladesh:\n",
    "    print(f'{city} is in Bangladesh' )\n",
    "else:\n",
    "     print(f\"I won't be able to tell you which country {city} is in! Sorry!\")"
   ]
  },
  {
   "cell_type": "code",
   "execution_count": 17,
   "metadata": {},
   "outputs": [],
   "source": [
    "#Write a python program that can tell you if your sugar is normal or not.\n",
    "# Normal fasting level sugar range is 80 to 100.\n",
    "#Ask user to enter his fasting sugar level\n",
    "#If it is below 80 to 100 range then print that sugar is low\n",
    "#If it is above 100 then print that it is high otherwise print that it is normal"
   ]
  },
  {
   "cell_type": "code",
   "execution_count": 31,
   "metadata": {},
   "outputs": [],
   "source": [
    "sugar = input('Enter Sugar Level')\n",
    "sugar = int(sugar)"
   ]
  },
  {
   "cell_type": "code",
   "execution_count": 32,
   "metadata": {},
   "outputs": [
    {
     "name": "stdout",
     "output_type": "stream",
     "text": [
      "Your sugar level of 75 is below normal\n"
     ]
    }
   ],
   "source": [
    "if sugar < 80:\n",
    "    print(f'Your sugar level of {sugar} is below normal')\n",
    "elif sugar >= 80 & sugar <100:\n",
    "    print(f'Your sugar level of {sugar} is normal')\n",
    "elif sugar >= 100:\n",
    "    print(f'Your sugar level of {sugar} is above normal')\n",
    "else:\n",
    "    print('Error')"
   ]
  }
 ],
 "metadata": {
  "kernelspec": {
   "display_name": "base",
   "language": "python",
   "name": "python3"
  },
  "language_info": {
   "codemirror_mode": {
    "name": "ipython",
    "version": 3
   },
   "file_extension": ".py",
   "mimetype": "text/x-python",
   "name": "python",
   "nbconvert_exporter": "python",
   "pygments_lexer": "ipython3",
   "version": "3.11.4"
  }
 },
 "nbformat": 4,
 "nbformat_minor": 2
}
